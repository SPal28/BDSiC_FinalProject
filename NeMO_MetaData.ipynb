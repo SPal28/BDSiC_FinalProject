{
  "nbformat": 4,
  "nbformat_minor": 0,
  "metadata": {
    "colab": {
      "provenance": [],
      "authorship_tag": "ABX9TyMtWRClFAn676ojJrCDaSj7",
      "include_colab_link": true
    },
    "kernelspec": {
      "name": "python3",
      "display_name": "Python 3"
    },
    "language_info": {
      "name": "python"
    }
  },
  "cells": [
    {
      "cell_type": "markdown",
      "metadata": {
        "id": "view-in-github",
        "colab_type": "text"
      },
      "source": [
        "<a href=\"https://colab.research.google.com/github/driskoe/BDSiC_FinalProject/blob/main/NeMO_MetaData.ipynb\" target=\"_parent\"><img src=\"https://colab.research.google.com/assets/colab-badge.svg\" alt=\"Open In Colab\"/></a>"
      ]
    },
    {
      "cell_type": "markdown",
      "source": [
        "# Import Data\n"
      ],
      "metadata": {
        "id": "xILJ0KxsdsQe"
      }
    },
    {
      "cell_type": "code",
      "source": [
        "import pandas as pd\n",
        "import numpy as np\n",
        "import matplotlib.pyplot as plt\n",
        "import seaborn as sns"
      ],
      "metadata": {
        "id": "98nH3MDPzGWC"
      },
      "execution_count": 2,
      "outputs": []
    },
    {
      "cell_type": "code",
      "execution_count": 72,
      "metadata": {
        "id": "BNSZVu2_yzEJ"
      },
      "outputs": [],
      "source": [
        "#make sure to add the .txt file in\n",
        "data = pd.read_csv('pacbio_deepdives_cells_unfiltered.txt', sep=\"\\t\", header=None)\n",
        "#reformat so that column names are the values in the first row\n",
        "data.rename(columns=lambda x: data[x][0], inplace=True)\n",
        "data = data.iloc[1:]\n",
        "#dropped region since it only contained 1 value (CD)\n",
        "data = data.drop(\"REGION\", axis = 1)\n",
        "#convert numeric columns into integers since currently strings\n",
        "numeric_columns = [\"NREADS\", \"READLENGTH\", \"CAGLENGTH\", \"ALIGNSTART\", \"ALIGNEND\"]\n",
        "for column in numeric_columns:\n",
        "  data[column] = pd.to_numeric(data[column], errors='coerce')"
      ]
    },
    {
      "cell_type": "markdown",
      "source": [
        "#Exploratory Data Analysis"
      ],
      "metadata": {
        "id": "g-UIju5rdvHA"
      }
    },
    {
      "cell_type": "markdown",
      "source": [
        "Unclear whether Align start and Align end are useful to us, so won't drop columns yet. Don't have the data such that imputation would be of any use. Category could probably drop if wanted"
      ],
      "metadata": {
        "id": "fhvRY65wjT1F"
      }
    },
    {
      "cell_type": "code",
      "source": [
        "data.isna().sum()"
      ],
      "metadata": {
        "colab": {
          "base_uri": "https://localhost:8080/",
          "height": 397
        },
        "id": "fQkKtgIWjKLL",
        "outputId": "72978a3a-f664-4805-ef64-9388b4238b4e"
      },
      "execution_count": 80,
      "outputs": [
        {
          "output_type": "execute_result",
          "data": {
            "text/plain": [
              "CELL_BARCODE      0\n",
              "UMI               0\n",
              "NREADS            0\n",
              "READLENGTH        0\n",
              "CAGLENGTH         0\n",
              "CATEGORY          3\n",
              "ALIGNSTART      126\n",
              "ALIGNEND        126\n",
              "DONOR             0\n",
              "CELLTYPE          0\n",
              "dtype: int64"
            ],
            "text/html": [
              "<div>\n",
              "<style scoped>\n",
              "    .dataframe tbody tr th:only-of-type {\n",
              "        vertical-align: middle;\n",
              "    }\n",
              "\n",
              "    .dataframe tbody tr th {\n",
              "        vertical-align: top;\n",
              "    }\n",
              "\n",
              "    .dataframe thead th {\n",
              "        text-align: right;\n",
              "    }\n",
              "</style>\n",
              "<table border=\"1\" class=\"dataframe\">\n",
              "  <thead>\n",
              "    <tr style=\"text-align: right;\">\n",
              "      <th></th>\n",
              "      <th>0</th>\n",
              "    </tr>\n",
              "  </thead>\n",
              "  <tbody>\n",
              "    <tr>\n",
              "      <th>CELL_BARCODE</th>\n",
              "      <td>0</td>\n",
              "    </tr>\n",
              "    <tr>\n",
              "      <th>UMI</th>\n",
              "      <td>0</td>\n",
              "    </tr>\n",
              "    <tr>\n",
              "      <th>NREADS</th>\n",
              "      <td>0</td>\n",
              "    </tr>\n",
              "    <tr>\n",
              "      <th>READLENGTH</th>\n",
              "      <td>0</td>\n",
              "    </tr>\n",
              "    <tr>\n",
              "      <th>CAGLENGTH</th>\n",
              "      <td>0</td>\n",
              "    </tr>\n",
              "    <tr>\n",
              "      <th>CATEGORY</th>\n",
              "      <td>3</td>\n",
              "    </tr>\n",
              "    <tr>\n",
              "      <th>ALIGNSTART</th>\n",
              "      <td>126</td>\n",
              "    </tr>\n",
              "    <tr>\n",
              "      <th>ALIGNEND</th>\n",
              "      <td>126</td>\n",
              "    </tr>\n",
              "    <tr>\n",
              "      <th>DONOR</th>\n",
              "      <td>0</td>\n",
              "    </tr>\n",
              "    <tr>\n",
              "      <th>CELLTYPE</th>\n",
              "      <td>0</td>\n",
              "    </tr>\n",
              "  </tbody>\n",
              "</table>\n",
              "</div><br><label><b>dtype:</b> int64</label>"
            ]
          },
          "metadata": {},
          "execution_count": 80
        }
      ]
    },
    {
      "cell_type": "code",
      "source": [],
      "metadata": {
        "id": "8Gutpj5bjDdA"
      },
      "execution_count": null,
      "outputs": []
    }
  ]
}